{
 "cells": [
  {
   "cell_type": "markdown",
   "metadata": {},
   "source": [
    "#### Heart Mortality in USA by state - population over 35 years old  \n",
    "Data:  \n",
    "<a href=https://catalog.data.gov/dataset/heart-disease-mortality-data-among-us-adults-35-by-state-territory-and-county-a68e3>https://catalog.data.gov/dataset/heart-disease-mortality-data-among-us-adults-35-by-state-territory-and-county-a68e3</a>  \n",
    "\n",
    "<b>Problem Statement and Project Life Cycle:</b>  \n",
    "Using the heart mortality data is it possible to predict the gender to which a specifc observation belongs?  \n",
    "To answer this problem the following steps are used to construct a set of multi-class classification models:\n",
    "- Data is collected through data.gov\n",
    "- Each feature/column in the dataset is analyzed to identify the data type of the feature and the number of null and non-null values.\n",
    "- Preliminary analysis includes a histograms of:\n",
    "    - Grouped mortality rate by state to observe the average heart mortality rate at state level.\n",
    "    - Grouped mortality rate by state and gender classification to also observe the average heart mortality rate by gender and state.\n",
    "- Feature engineering includes:\n",
    "    - Coverting Location1 from type string to float as these are coordinates and will provide more meaninful information as numerical data types\n",
    "    - Conversion of mortality rate to type float.\n",
    "    - Coversion of location abbreviation, location description, geographic level, data value type, stratification 1, stratification 2, and location ID to catgorical variables.\n",
    "    - Dummy encoding of categorical variables \n",
    "    - Log transformation of mortality rate to correct for the right skew in this variable.\n",
    "    - Imputation of missing values in the mortality rate by using grouped median based on stratification 2(ethnicity) at the location(state) level\n",
    "- Feature Selection:\n",
    "    - Feature selection is done using the Generic Univariate Selector from scikit learn which ranks features based on importance calculated using F-Value from the ANOVA test.\n",
    "- The data is modeled using:\n",
    "    - Train/Test Split of 80%/20%\n",
    "    - Logistic Regression Classifier\n",
    "    - Gaussian Naive Bayes Classifier\n",
    "    - Support Vector Machine CLassifier\n",
    "    - Decision Tree Classifier\n",
    "    - Random Forest Classifier\n",
    "- For both tree classifiers the models are iterated over tree depth and the AUC accuracy is ploted for each iteration. The final models use the maximum depth of the tree which produces the highest AUC accuracy.\n",
    "    \n",
    "- Each model's AUC accuracy along with a confusion matrix of the results is reported at the end of each model.  \n",
    "- Amongst all classifiers the Decision Tree classifier produces the best AUC accuracy of 71.1%\n",
    "\n",
    "Libraries used in the project inlcude Pandas, Numpy, Matplotlib, Seaborn, and Scikit Learn"
   ]
  },
  {
   "cell_type": "code",
   "execution_count": 17,
   "metadata": {},
   "outputs": [],
   "source": [
    "import numpy as np\n",
    "import pandas as pd\n",
    "pd.set_option('display.max_rows', None)\n",
    "import seaborn as sns\n",
    "import matplotlib.pyplot as plt\n",
    "from pylab import rcParams\n",
    "import warnings\n",
    "warnings.simplefilter('ignore')\n",
    "%matplotlib inline"
   ]
  },
  {
   "cell_type": "code",
   "execution_count": 18,
   "metadata": {},
   "outputs": [],
   "source": [
    "df = pd.read_csv('Heart Mortality Data.csv')"
   ]
  },
  {
   "cell_type": "code",
   "execution_count": 19,
   "metadata": {},
   "outputs": [
    {
     "name": "stdout",
     "output_type": "stream",
     "text": [
      "<class 'pandas.core.frame.DataFrame'>\n",
      "RangeIndex: 59076 entries, 0 to 59075\n",
      "Data columns (total 19 columns):\n",
      " #   Column                      Non-Null Count  Dtype  \n",
      "---  ------                      --------------  -----  \n",
      " 0   Year                        59076 non-null  int64  \n",
      " 1   LocationAbbr                59076 non-null  object \n",
      " 2   LocationDesc                59076 non-null  object \n",
      " 3   GeographicLevel             59076 non-null  object \n",
      " 4   DataSource                  59076 non-null  object \n",
      " 5   Class                       59076 non-null  object \n",
      " 6   Topic                       59076 non-null  object \n",
      " 7   Data_Value                  31899 non-null  float64\n",
      " 8   Data_Value_Unit             59076 non-null  object \n",
      " 9   Data_Value_Type             59076 non-null  object \n",
      " 10  Data_Value_Footnote_Symbol  27177 non-null  object \n",
      " 11  Data_Value_Footnote         27177 non-null  object \n",
      " 12  StratificationCategory1     59076 non-null  object \n",
      " 13  Stratification1             59076 non-null  object \n",
      " 14  StratificationCategory2     59076 non-null  object \n",
      " 15  Stratification2             59076 non-null  object \n",
      " 16  TopicID                     59076 non-null  object \n",
      " 17  LocationID                  59076 non-null  int64  \n",
      " 18  Location 1                  59058 non-null  object \n",
      "dtypes: float64(1), int64(2), object(16)\n",
      "memory usage: 8.6+ MB\n"
     ]
    }
   ],
   "source": [
    "df.info()"
   ]
  },
  {
   "cell_type": "code",
   "execution_count": 20,
   "metadata": {},
   "outputs": [
    {
     "data": {
      "text/html": [
       "<div>\n",
       "<style scoped>\n",
       "    .dataframe tbody tr th:only-of-type {\n",
       "        vertical-align: middle;\n",
       "    }\n",
       "\n",
       "    .dataframe tbody tr th {\n",
       "        vertical-align: top;\n",
       "    }\n",
       "\n",
       "    .dataframe thead th {\n",
       "        text-align: right;\n",
       "    }\n",
       "</style>\n",
       "<table border=\"1\" class=\"dataframe\">\n",
       "  <thead>\n",
       "    <tr style=\"text-align: right;\">\n",
       "      <th></th>\n",
       "      <th>Year</th>\n",
       "      <th>LocationAbbr</th>\n",
       "      <th>LocationDesc</th>\n",
       "      <th>GeographicLevel</th>\n",
       "      <th>DataSource</th>\n",
       "      <th>Class</th>\n",
       "      <th>Topic</th>\n",
       "      <th>Mortality Rate</th>\n",
       "      <th>Data_Value_Unit</th>\n",
       "      <th>Data_Value_Type</th>\n",
       "      <th>Data_Value_Footnote_Symbol</th>\n",
       "      <th>Data_Value_Footnote</th>\n",
       "      <th>StratificationCategory1</th>\n",
       "      <th>Stratification1</th>\n",
       "      <th>StratificationCategory2</th>\n",
       "      <th>Stratification2</th>\n",
       "      <th>TopicID</th>\n",
       "      <th>LocationID</th>\n",
       "      <th>Location 1</th>\n",
       "    </tr>\n",
       "  </thead>\n",
       "  <tbody>\n",
       "    <tr>\n",
       "      <th>0</th>\n",
       "      <td>2015</td>\n",
       "      <td>AR</td>\n",
       "      <td>Arkansas</td>\n",
       "      <td>State</td>\n",
       "      <td>NVSS</td>\n",
       "      <td>Cardiovascular Diseases</td>\n",
       "      <td>Heart Disease Mortality</td>\n",
       "      <td>136.6</td>\n",
       "      <td>per 100,000 population</td>\n",
       "      <td>Age-adjusted, 3-year Average Rate</td>\n",
       "      <td>NaN</td>\n",
       "      <td>NaN</td>\n",
       "      <td>Gender</td>\n",
       "      <td>Overall</td>\n",
       "      <td>Race/Ethnicity</td>\n",
       "      <td>Hispanic</td>\n",
       "      <td>T2</td>\n",
       "      <td>5</td>\n",
       "      <td>(34.8982, -92.434)</td>\n",
       "    </tr>\n",
       "    <tr>\n",
       "      <th>1</th>\n",
       "      <td>2015</td>\n",
       "      <td>AR</td>\n",
       "      <td>Arkansas</td>\n",
       "      <td>State</td>\n",
       "      <td>NVSS</td>\n",
       "      <td>Cardiovascular Diseases</td>\n",
       "      <td>Heart Disease Mortality</td>\n",
       "      <td>138.3</td>\n",
       "      <td>per 100,000 population</td>\n",
       "      <td>Age-adjusted, 3-year Average Rate</td>\n",
       "      <td>NaN</td>\n",
       "      <td>NaN</td>\n",
       "      <td>Gender</td>\n",
       "      <td>Male</td>\n",
       "      <td>Race/Ethnicity</td>\n",
       "      <td>Hispanic</td>\n",
       "      <td>T2</td>\n",
       "      <td>5</td>\n",
       "      <td>(34.8982, -92.434)</td>\n",
       "    </tr>\n",
       "    <tr>\n",
       "      <th>2</th>\n",
       "      <td>2015</td>\n",
       "      <td>AR</td>\n",
       "      <td>Arkansas</td>\n",
       "      <td>State</td>\n",
       "      <td>NVSS</td>\n",
       "      <td>Cardiovascular Diseases</td>\n",
       "      <td>Heart Disease Mortality</td>\n",
       "      <td>130.4</td>\n",
       "      <td>per 100,000 population</td>\n",
       "      <td>Age-adjusted, 3-year Average Rate</td>\n",
       "      <td>NaN</td>\n",
       "      <td>NaN</td>\n",
       "      <td>Gender</td>\n",
       "      <td>Female</td>\n",
       "      <td>Race/Ethnicity</td>\n",
       "      <td>Hispanic</td>\n",
       "      <td>T2</td>\n",
       "      <td>5</td>\n",
       "      <td>(34.8982, -92.434)</td>\n",
       "    </tr>\n",
       "    <tr>\n",
       "      <th>3</th>\n",
       "      <td>2015</td>\n",
       "      <td>AS</td>\n",
       "      <td>American Samoa</td>\n",
       "      <td>State</td>\n",
       "      <td>NVSS</td>\n",
       "      <td>Cardiovascular Diseases</td>\n",
       "      <td>Heart Disease Mortality</td>\n",
       "      <td>456.2</td>\n",
       "      <td>per 100,000 population</td>\n",
       "      <td>Age-adjusted, 3-year Average Rate</td>\n",
       "      <td>NaN</td>\n",
       "      <td>NaN</td>\n",
       "      <td>Gender</td>\n",
       "      <td>Male</td>\n",
       "      <td>Race/Ethnicity</td>\n",
       "      <td>Overall</td>\n",
       "      <td>T2</td>\n",
       "      <td>60</td>\n",
       "      <td>(-14.2766, -170.367)</td>\n",
       "    </tr>\n",
       "    <tr>\n",
       "      <th>4</th>\n",
       "      <td>2015</td>\n",
       "      <td>AS</td>\n",
       "      <td>American Samoa</td>\n",
       "      <td>State</td>\n",
       "      <td>NVSS</td>\n",
       "      <td>Cardiovascular Diseases</td>\n",
       "      <td>Heart Disease Mortality</td>\n",
       "      <td>294.1</td>\n",
       "      <td>per 100,000 population</td>\n",
       "      <td>Age-adjusted, 3-year Average Rate</td>\n",
       "      <td>NaN</td>\n",
       "      <td>NaN</td>\n",
       "      <td>Gender</td>\n",
       "      <td>Female</td>\n",
       "      <td>Race/Ethnicity</td>\n",
       "      <td>Overall</td>\n",
       "      <td>T2</td>\n",
       "      <td>60</td>\n",
       "      <td>(-14.2766, -170.367)</td>\n",
       "    </tr>\n",
       "  </tbody>\n",
       "</table>\n",
       "</div>"
      ],
      "text/plain": [
       "   Year LocationAbbr    LocationDesc GeographicLevel DataSource  \\\n",
       "0  2015           AR        Arkansas           State       NVSS   \n",
       "1  2015           AR        Arkansas           State       NVSS   \n",
       "2  2015           AR        Arkansas           State       NVSS   \n",
       "3  2015           AS  American Samoa           State       NVSS   \n",
       "4  2015           AS  American Samoa           State       NVSS   \n",
       "\n",
       "                     Class                    Topic  Mortality Rate  \\\n",
       "0  Cardiovascular Diseases  Heart Disease Mortality           136.6   \n",
       "1  Cardiovascular Diseases  Heart Disease Mortality           138.3   \n",
       "2  Cardiovascular Diseases  Heart Disease Mortality           130.4   \n",
       "3  Cardiovascular Diseases  Heart Disease Mortality           456.2   \n",
       "4  Cardiovascular Diseases  Heart Disease Mortality           294.1   \n",
       "\n",
       "          Data_Value_Unit                    Data_Value_Type  \\\n",
       "0  per 100,000 population  Age-adjusted, 3-year Average Rate   \n",
       "1  per 100,000 population  Age-adjusted, 3-year Average Rate   \n",
       "2  per 100,000 population  Age-adjusted, 3-year Average Rate   \n",
       "3  per 100,000 population  Age-adjusted, 3-year Average Rate   \n",
       "4  per 100,000 population  Age-adjusted, 3-year Average Rate   \n",
       "\n",
       "  Data_Value_Footnote_Symbol Data_Value_Footnote StratificationCategory1  \\\n",
       "0                        NaN                 NaN                  Gender   \n",
       "1                        NaN                 NaN                  Gender   \n",
       "2                        NaN                 NaN                  Gender   \n",
       "3                        NaN                 NaN                  Gender   \n",
       "4                        NaN                 NaN                  Gender   \n",
       "\n",
       "  Stratification1 StratificationCategory2 Stratification2 TopicID  LocationID  \\\n",
       "0         Overall          Race/Ethnicity        Hispanic      T2           5   \n",
       "1            Male          Race/Ethnicity        Hispanic      T2           5   \n",
       "2          Female          Race/Ethnicity        Hispanic      T2           5   \n",
       "3            Male          Race/Ethnicity         Overall      T2          60   \n",
       "4          Female          Race/Ethnicity         Overall      T2          60   \n",
       "\n",
       "             Location 1  \n",
       "0    (34.8982, -92.434)  \n",
       "1    (34.8982, -92.434)  \n",
       "2    (34.8982, -92.434)  \n",
       "3  (-14.2766, -170.367)  \n",
       "4  (-14.2766, -170.367)  "
      ]
     },
     "execution_count": 20,
     "metadata": {},
     "output_type": "execute_result"
    }
   ],
   "source": [
    "df.rename(columns={'Data_Value':'Mortality Rate'}, inplace=True)\n",
    "df.head()"
   ]
  },
  {
   "cell_type": "code",
   "execution_count": 21,
   "metadata": {},
   "outputs": [],
   "source": [
    "state = df.loc[:,['LocationAbbr', 'Stratification1', 'Mortality Rate']]"
   ]
  },
  {
   "cell_type": "code",
   "execution_count": 22,
   "metadata": {},
   "outputs": [
    {
     "data": {
      "image/png": "[encoded data removed]",
      "text/plain": [
       "<Figure size 1800x432 with 1 Axes>"
      ]
     },
     "metadata": {
      "needs_background": "light"
     },
     "output_type": "display_data"
    }
   ],
   "source": [
    "state.groupby(['LocationAbbr']).mean().sort_values(by='Mortality Rate').plot(kind='bar', figsize=(25,6))\n",
    "plt.xlabel('State')\n",
    "plt.ylabel('Mortality Rate')\n",
    "plt.show()"
   ]
  },
  {
   "cell_type": "code",
   "execution_count": 23,
   "metadata": {},
   "outputs": [
    {
     "data": {
      "image/png": "[encoded data removed]",
      "text/plain": [
       "<Figure size 1800x432 with 1 Axes>"
      ]
     },
     "metadata": {
      "needs_background": "light"
     },
     "output_type": "display_data"
    }
   ],
   "source": [
    "rcParams['figure.figsize']=25,6\n",
    "grouped = state.dropna().groupby(['LocationAbbr','Stratification1']).mean()\n",
    "grouped.unstack(level=[1]).plot.bar(stacked=False, legend=True, rot=0)\n",
    "plt.xlabel('State')\n",
    "plt.ylabel('Mortality Rate')\n",
    "plt.show()"
   ]
  },
  {
   "cell_type": "markdown",
   "metadata": {},
   "source": [
    "### Data Transformation and Feature Engineering  \n",
    "\n",
    "The Location1 column is type string. To extract more meaninful data from this column it is converted to coordinates into two seperate columns which are then converted to type float to be used as a continous variable. Data_Value refers to the measurement of heart mortality and is a continous variable. Therefore, it is converted to type float as well.\n",
    "\n",
    "- Split Location1 column into two separate columns Longitue and Latitue\n",
    "- Convert the newly created Longitude and Latitude columns to type float\n",
    "- Convert column Data_Value to type float\n"
   ]
  },
  {
   "cell_type": "code",
   "execution_count": 24,
   "metadata": {},
   "outputs": [],
   "source": [
    "df['Mortality Rate'] = df['Mortality Rate'].astype('float')\n",
    "df['Latitude'] = df['Location 1'].str.split(',').str[0].str[1:6].astype('float')\n",
    "df['Longitude'] = df['Location 1'].str.split(',').str[1].str[:7].astype('float')"
   ]
  },
  {
   "cell_type": "markdown",
   "metadata": {},
   "source": [
    "- State abbreviations, location description, data value type, gender, ethnicity, abd location ID are all converted to categorical variables"
   ]
  },
  {
   "cell_type": "code",
   "execution_count": 25,
   "metadata": {},
   "outputs": [],
   "source": [
    "df['LocationAbbr'] = df['LocationAbbr'].astype('category') \n",
    "df['LocationDesc'] = df['LocationDesc'].astype('category') \n",
    "df['GeographicLevel'] = df['GeographicLevel'].astype('category') \n",
    "df['Data_Value_Type'] = df['Data_Value_Type'].astype('category') \n",
    "df['Stratification1'] = df['Stratification1'].astype('category') \n",
    "df['Stratification2'] = df['Stratification2'].astype('category') \n",
    "df['LocationID'] = df['LocationID'].astype('category')"
   ]
  },
  {
   "cell_type": "code",
   "execution_count": 26,
   "metadata": {},
   "outputs": [],
   "source": [
    "df2 = df[['Year','Mortality Rate', 'Latitude', 'Longitude', 'LocationAbbr', 'LocationDesc', 'GeographicLevel', 'Data_Value_Type', 'Stratification2', 'LocationID', 'Stratification1']]"
   ]
  },
  {
   "cell_type": "code",
   "execution_count": 27,
   "metadata": {},
   "outputs": [
    {
     "data": {
      "text/html": [
       "<div>\n",
       "<style scoped>\n",
       "    .dataframe tbody tr th:only-of-type {\n",
       "        vertical-align: middle;\n",
       "    }\n",
       "\n",
       "    .dataframe tbody tr th {\n",
       "        vertical-align: top;\n",
       "    }\n",
       "\n",
       "    .dataframe thead th {\n",
       "        text-align: right;\n",
       "    }\n",
       "</style>\n",
       "<table border=\"1\" class=\"dataframe\">\n",
       "  <thead>\n",
       "    <tr style=\"text-align: right;\">\n",
       "      <th></th>\n",
       "      <th>Year</th>\n",
       "      <th>Mortality Rate</th>\n",
       "      <th>Latitude</th>\n",
       "      <th>Longitude</th>\n",
       "      <th>LocationAbbr</th>\n",
       "      <th>LocationDesc</th>\n",
       "      <th>GeographicLevel</th>\n",
       "      <th>Data_Value_Type</th>\n",
       "      <th>Stratification2</th>\n",
       "      <th>LocationID</th>\n",
       "      <th>Stratification1</th>\n",
       "    </tr>\n",
       "  </thead>\n",
       "  <tbody>\n",
       "    <tr>\n",
       "      <th>0</th>\n",
       "      <td>2015</td>\n",
       "      <td>136.6</td>\n",
       "      <td>34.89</td>\n",
       "      <td>-92.43</td>\n",
       "      <td>AR</td>\n",
       "      <td>Arkansas</td>\n",
       "      <td>State</td>\n",
       "      <td>Age-adjusted, 3-year Average Rate</td>\n",
       "      <td>Hispanic</td>\n",
       "      <td>5</td>\n",
       "      <td>Overall</td>\n",
       "    </tr>\n",
       "    <tr>\n",
       "      <th>1</th>\n",
       "      <td>2015</td>\n",
       "      <td>138.3</td>\n",
       "      <td>34.89</td>\n",
       "      <td>-92.43</td>\n",
       "      <td>AR</td>\n",
       "      <td>Arkansas</td>\n",
       "      <td>State</td>\n",
       "      <td>Age-adjusted, 3-year Average Rate</td>\n",
       "      <td>Hispanic</td>\n",
       "      <td>5</td>\n",
       "      <td>Male</td>\n",
       "    </tr>\n",
       "    <tr>\n",
       "      <th>2</th>\n",
       "      <td>2015</td>\n",
       "      <td>130.4</td>\n",
       "      <td>34.89</td>\n",
       "      <td>-92.43</td>\n",
       "      <td>AR</td>\n",
       "      <td>Arkansas</td>\n",
       "      <td>State</td>\n",
       "      <td>Age-adjusted, 3-year Average Rate</td>\n",
       "      <td>Hispanic</td>\n",
       "      <td>5</td>\n",
       "      <td>Female</td>\n",
       "    </tr>\n",
       "    <tr>\n",
       "      <th>3</th>\n",
       "      <td>2015</td>\n",
       "      <td>456.2</td>\n",
       "      <td>-14.20</td>\n",
       "      <td>-170.30</td>\n",
       "      <td>AS</td>\n",
       "      <td>American Samoa</td>\n",
       "      <td>State</td>\n",
       "      <td>Age-adjusted, 3-year Average Rate</td>\n",
       "      <td>Overall</td>\n",
       "      <td>60</td>\n",
       "      <td>Male</td>\n",
       "    </tr>\n",
       "    <tr>\n",
       "      <th>4</th>\n",
       "      <td>2015</td>\n",
       "      <td>294.1</td>\n",
       "      <td>-14.20</td>\n",
       "      <td>-170.30</td>\n",
       "      <td>AS</td>\n",
       "      <td>American Samoa</td>\n",
       "      <td>State</td>\n",
       "      <td>Age-adjusted, 3-year Average Rate</td>\n",
       "      <td>Overall</td>\n",
       "      <td>60</td>\n",
       "      <td>Female</td>\n",
       "    </tr>\n",
       "  </tbody>\n",
       "</table>\n",
       "</div>"
      ],
      "text/plain": [
       "   Year  Mortality Rate  Latitude  Longitude LocationAbbr    LocationDesc  \\\n",
       "0  2015           136.6     34.89     -92.43           AR        Arkansas   \n",
       "1  2015           138.3     34.89     -92.43           AR        Arkansas   \n",
       "2  2015           130.4     34.89     -92.43           AR        Arkansas   \n",
       "3  2015           456.2    -14.20    -170.30           AS  American Samoa   \n",
       "4  2015           294.1    -14.20    -170.30           AS  American Samoa   \n",
       "\n",
       "  GeographicLevel                    Data_Value_Type Stratification2  \\\n",
       "0           State  Age-adjusted, 3-year Average Rate        Hispanic   \n",
       "1           State  Age-adjusted, 3-year Average Rate        Hispanic   \n",
       "2           State  Age-adjusted, 3-year Average Rate        Hispanic   \n",
       "3           State  Age-adjusted, 3-year Average Rate         Overall   \n",
       "4           State  Age-adjusted, 3-year Average Rate         Overall   \n",
       "\n",
       "  LocationID Stratification1  \n",
       "0          5         Overall  \n",
       "1          5            Male  \n",
       "2          5          Female  \n",
       "3         60            Male  \n",
       "4         60          Female  "
      ]
     },
     "execution_count": 27,
     "metadata": {},
     "output_type": "execute_result"
    }
   ],
   "source": [
    "df2.head()"
   ]
  },
  {
   "cell_type": "markdown",
   "metadata": {},
   "source": [
    "- Check for missing values"
   ]
  },
  {
   "cell_type": "code",
   "execution_count": 28,
   "metadata": {},
   "outputs": [
    {
     "name": "stdout",
     "output_type": "stream",
     "text": [
      "Missing Values: \n",
      "Year                   0\n",
      "Mortality Rate     27177\n",
      "Latitude              18\n",
      "Longitude             18\n",
      "LocationAbbr           0\n",
      "LocationDesc           0\n",
      "GeographicLevel        0\n",
      "Data_Value_Type        0\n",
      "Stratification2        0\n",
      "LocationID             0\n",
      "Stratification1        0\n",
      "dtype: int64\n"
     ]
    }
   ],
   "source": [
    "#Check for missing values\n",
    "print('Missing Values: ')\n",
    "print(df2.isna().sum())"
   ]
  },
  {
   "cell_type": "code",
   "execution_count": 29,
   "metadata": {},
   "outputs": [],
   "source": [
    "states = df2['LocationAbbr'].unique()\n",
    "ethnicities = df2['Stratification2'].unique()"
   ]
  },
  {
   "cell_type": "code",
   "execution_count": 30,
   "metadata": {},
   "outputs": [],
   "source": [
    "idx = pd.IndexSlice"
   ]
  },
  {
   "cell_type": "markdown",
   "metadata": {},
   "source": [
    "- To make use of the categorical variables they are encoded as dummy variables using the pandas get dummies method."
   ]
  },
  {
   "cell_type": "code",
   "execution_count": 31,
   "metadata": {},
   "outputs": [],
   "source": [
    "df2['State-Strat2'] = df2['LocationAbbr'].astype('str')+df2['Stratification2'].astype('str')"
   ]
  },
  {
   "cell_type": "code",
   "execution_count": 32,
   "metadata": {},
   "outputs": [
    {
     "data": {
      "text/html": [
       "<div>\n",
       "<style scoped>\n",
       "    .dataframe tbody tr th:only-of-type {\n",
       "        vertical-align: middle;\n",
       "    }\n",
       "\n",
       "    .dataframe tbody tr th {\n",
       "        vertical-align: top;\n",
       "    }\n",
       "\n",
       "    .dataframe thead th {\n",
       "        text-align: right;\n",
       "    }\n",
       "</style>\n",
       "<table border=\"1\" class=\"dataframe\">\n",
       "  <thead>\n",
       "    <tr style=\"text-align: right;\">\n",
       "      <th></th>\n",
       "      <th>Year</th>\n",
       "      <th>Mortality Rate</th>\n",
       "      <th>Latitude</th>\n",
       "      <th>Longitude</th>\n",
       "      <th>LocationAbbr</th>\n",
       "      <th>LocationDesc</th>\n",
       "      <th>GeographicLevel</th>\n",
       "      <th>Data_Value_Type</th>\n",
       "      <th>Stratification2</th>\n",
       "      <th>LocationID</th>\n",
       "      <th>Stratification1</th>\n",
       "      <th>State-Strat2</th>\n",
       "    </tr>\n",
       "  </thead>\n",
       "  <tbody>\n",
       "    <tr>\n",
       "      <th>0</th>\n",
       "      <td>2015</td>\n",
       "      <td>136.6</td>\n",
       "      <td>34.89</td>\n",
       "      <td>-92.43</td>\n",
       "      <td>AR</td>\n",
       "      <td>Arkansas</td>\n",
       "      <td>State</td>\n",
       "      <td>Age-adjusted, 3-year Average Rate</td>\n",
       "      <td>Hispanic</td>\n",
       "      <td>5</td>\n",
       "      <td>Overall</td>\n",
       "      <td>ARHispanic</td>\n",
       "    </tr>\n",
       "    <tr>\n",
       "      <th>1</th>\n",
       "      <td>2015</td>\n",
       "      <td>138.3</td>\n",
       "      <td>34.89</td>\n",
       "      <td>-92.43</td>\n",
       "      <td>AR</td>\n",
       "      <td>Arkansas</td>\n",
       "      <td>State</td>\n",
       "      <td>Age-adjusted, 3-year Average Rate</td>\n",
       "      <td>Hispanic</td>\n",
       "      <td>5</td>\n",
       "      <td>Male</td>\n",
       "      <td>ARHispanic</td>\n",
       "    </tr>\n",
       "    <tr>\n",
       "      <th>2</th>\n",
       "      <td>2015</td>\n",
       "      <td>130.4</td>\n",
       "      <td>34.89</td>\n",
       "      <td>-92.43</td>\n",
       "      <td>AR</td>\n",
       "      <td>Arkansas</td>\n",
       "      <td>State</td>\n",
       "      <td>Age-adjusted, 3-year Average Rate</td>\n",
       "      <td>Hispanic</td>\n",
       "      <td>5</td>\n",
       "      <td>Female</td>\n",
       "      <td>ARHispanic</td>\n",
       "    </tr>\n",
       "    <tr>\n",
       "      <th>3</th>\n",
       "      <td>2015</td>\n",
       "      <td>456.2</td>\n",
       "      <td>-14.20</td>\n",
       "      <td>-170.30</td>\n",
       "      <td>AS</td>\n",
       "      <td>American Samoa</td>\n",
       "      <td>State</td>\n",
       "      <td>Age-adjusted, 3-year Average Rate</td>\n",
       "      <td>Overall</td>\n",
       "      <td>60</td>\n",
       "      <td>Male</td>\n",
       "      <td>ASOverall</td>\n",
       "    </tr>\n",
       "    <tr>\n",
       "      <th>4</th>\n",
       "      <td>2015</td>\n",
       "      <td>294.1</td>\n",
       "      <td>-14.20</td>\n",
       "      <td>-170.30</td>\n",
       "      <td>AS</td>\n",
       "      <td>American Samoa</td>\n",
       "      <td>State</td>\n",
       "      <td>Age-adjusted, 3-year Average Rate</td>\n",
       "      <td>Overall</td>\n",
       "      <td>60</td>\n",
       "      <td>Female</td>\n",
       "      <td>ASOverall</td>\n",
       "    </tr>\n",
       "  </tbody>\n",
       "</table>\n",
       "</div>"
      ],
      "text/plain": [
       "   Year  Mortality Rate  Latitude  Longitude LocationAbbr    LocationDesc  \\\n",
       "0  2015           136.6     34.89     -92.43           AR        Arkansas   \n",
       "1  2015           138.3     34.89     -92.43           AR        Arkansas   \n",
       "2  2015           130.4     34.89     -92.43           AR        Arkansas   \n",
       "3  2015           456.2    -14.20    -170.30           AS  American Samoa   \n",
       "4  2015           294.1    -14.20    -170.30           AS  American Samoa   \n",
       "\n",
       "  GeographicLevel                    Data_Value_Type Stratification2  \\\n",
       "0           State  Age-adjusted, 3-year Average Rate        Hispanic   \n",
       "1           State  Age-adjusted, 3-year Average Rate        Hispanic   \n",
       "2           State  Age-adjusted, 3-year Average Rate        Hispanic   \n",
       "3           State  Age-adjusted, 3-year Average Rate         Overall   \n",
       "4           State  Age-adjusted, 3-year Average Rate         Overall   \n",
       "\n",
       "  LocationID Stratification1 State-Strat2  \n",
       "0          5         Overall   ARHispanic  \n",
       "1          5            Male   ARHispanic  \n",
       "2          5          Female   ARHispanic  \n",
       "3         60            Male    ASOverall  \n",
       "4         60          Female    ASOverall  "
      ]
     },
     "execution_count": 32,
     "metadata": {},
     "output_type": "execute_result"
    }
   ],
   "source": [
    "df2.head()"
   ]
  },
  {
   "cell_type": "code",
   "execution_count": 33,
   "metadata": {},
   "outputs": [],
   "source": [
    "grouped_data_value = df2[['Mortality Rate', 'State-Strat2']].groupby(['State-Strat2']).median().dropna()"
   ]
  },
  {
   "cell_type": "markdown",
   "metadata": {},
   "source": [
    "- Impute median grouped by location and stratification2 for missing values."
   ]
  },
  {
   "cell_type": "code",
   "execution_count": 34,
   "metadata": {},
   "outputs": [],
   "source": [
    "for i in grouped_data_value.index:\n",
    "            if ((df2['LocationAbbr']==i[:2]) & (df2['Stratification2']==i[2:])).any():\n",
    "                df2['Mortality Rate'].fillna(grouped_data_value.loc[idx[i],:].values[0], inplace=True) #.values passes in an array. To get the median slice the array at o index.\n",
    "            else:\n",
    "                df2['Mortality Rate'].fillna(df2['Mortality Rate'].median(), inplace=True)"
   ]
  },
  {
   "cell_type": "code",
   "execution_count": 35,
   "metadata": {},
   "outputs": [],
   "source": [
    "df2.dropna(inplace=True) ##drop entries with missing latitude and longitude"
   ]
  },
  {
   "cell_type": "code",
   "execution_count": 36,
   "metadata": {},
   "outputs": [
    {
     "data": {
      "text/plain": [
       "Year               0\n",
       "Mortality Rate     0\n",
       "Latitude           0\n",
       "Longitude          0\n",
       "LocationAbbr       0\n",
       "LocationDesc       0\n",
       "GeographicLevel    0\n",
       "Data_Value_Type    0\n",
       "Stratification2    0\n",
       "LocationID         0\n",
       "Stratification1    0\n",
       "State-Strat2       0\n",
       "dtype: int64"
      ]
     },
     "execution_count": 36,
     "metadata": {},
     "output_type": "execute_result"
    }
   ],
   "source": [
    "df2.isna().sum()"
   ]
  },
  {
   "cell_type": "code",
   "execution_count": 37,
   "metadata": {},
   "outputs": [
    {
     "data": {
      "text/html": [
       "<div>\n",
       "<style scoped>\n",
       "    .dataframe tbody tr th:only-of-type {\n",
       "        vertical-align: middle;\n",
       "    }\n",
       "\n",
       "    .dataframe tbody tr th {\n",
       "        vertical-align: top;\n",
       "    }\n",
       "\n",
       "    .dataframe thead th {\n",
       "        text-align: right;\n",
       "    }\n",
       "</style>\n",
       "<table border=\"1\" class=\"dataframe\">\n",
       "  <thead>\n",
       "    <tr style=\"text-align: right;\">\n",
       "      <th></th>\n",
       "      <th>Mortality Rate</th>\n",
       "      <th>Latitude</th>\n",
       "      <th>Longitude</th>\n",
       "      <th>LocationAbbr</th>\n",
       "      <th>LocationDesc</th>\n",
       "      <th>GeographicLevel</th>\n",
       "      <th>Data_Value_Type</th>\n",
       "      <th>Stratification2</th>\n",
       "      <th>Stratification1</th>\n",
       "    </tr>\n",
       "  </thead>\n",
       "  <tbody>\n",
       "    <tr>\n",
       "      <th>0</th>\n",
       "      <td>136.6</td>\n",
       "      <td>34.89</td>\n",
       "      <td>-92.43</td>\n",
       "      <td>AR</td>\n",
       "      <td>Arkansas</td>\n",
       "      <td>State</td>\n",
       "      <td>Age-adjusted, 3-year Average Rate</td>\n",
       "      <td>Hispanic</td>\n",
       "      <td>Overall</td>\n",
       "    </tr>\n",
       "    <tr>\n",
       "      <th>1</th>\n",
       "      <td>138.3</td>\n",
       "      <td>34.89</td>\n",
       "      <td>-92.43</td>\n",
       "      <td>AR</td>\n",
       "      <td>Arkansas</td>\n",
       "      <td>State</td>\n",
       "      <td>Age-adjusted, 3-year Average Rate</td>\n",
       "      <td>Hispanic</td>\n",
       "      <td>Male</td>\n",
       "    </tr>\n",
       "    <tr>\n",
       "      <th>2</th>\n",
       "      <td>130.4</td>\n",
       "      <td>34.89</td>\n",
       "      <td>-92.43</td>\n",
       "      <td>AR</td>\n",
       "      <td>Arkansas</td>\n",
       "      <td>State</td>\n",
       "      <td>Age-adjusted, 3-year Average Rate</td>\n",
       "      <td>Hispanic</td>\n",
       "      <td>Female</td>\n",
       "    </tr>\n",
       "    <tr>\n",
       "      <th>3</th>\n",
       "      <td>456.2</td>\n",
       "      <td>-14.20</td>\n",
       "      <td>-170.30</td>\n",
       "      <td>AS</td>\n",
       "      <td>American Samoa</td>\n",
       "      <td>State</td>\n",
       "      <td>Age-adjusted, 3-year Average Rate</td>\n",
       "      <td>Overall</td>\n",
       "      <td>Male</td>\n",
       "    </tr>\n",
       "    <tr>\n",
       "      <th>4</th>\n",
       "      <td>294.1</td>\n",
       "      <td>-14.20</td>\n",
       "      <td>-170.30</td>\n",
       "      <td>AS</td>\n",
       "      <td>American Samoa</td>\n",
       "      <td>State</td>\n",
       "      <td>Age-adjusted, 3-year Average Rate</td>\n",
       "      <td>Overall</td>\n",
       "      <td>Female</td>\n",
       "    </tr>\n",
       "  </tbody>\n",
       "</table>\n",
       "</div>"
      ],
      "text/plain": [
       "   Mortality Rate  Latitude  Longitude LocationAbbr    LocationDesc  \\\n",
       "0           136.6     34.89     -92.43           AR        Arkansas   \n",
       "1           138.3     34.89     -92.43           AR        Arkansas   \n",
       "2           130.4     34.89     -92.43           AR        Arkansas   \n",
       "3           456.2    -14.20    -170.30           AS  American Samoa   \n",
       "4           294.1    -14.20    -170.30           AS  American Samoa   \n",
       "\n",
       "  GeographicLevel                    Data_Value_Type Stratification2  \\\n",
       "0           State  Age-adjusted, 3-year Average Rate        Hispanic   \n",
       "1           State  Age-adjusted, 3-year Average Rate        Hispanic   \n",
       "2           State  Age-adjusted, 3-year Average Rate        Hispanic   \n",
       "3           State  Age-adjusted, 3-year Average Rate         Overall   \n",
       "4           State  Age-adjusted, 3-year Average Rate         Overall   \n",
       "\n",
       "  Stratification1  \n",
       "0         Overall  \n",
       "1            Male  \n",
       "2          Female  \n",
       "3            Male  \n",
       "4          Female  "
      ]
     },
     "execution_count": 37,
     "metadata": {},
     "output_type": "execute_result"
    }
   ],
   "source": [
    "df2 = df2[['Mortality Rate', 'Latitude', 'Longitude', 'LocationAbbr', 'LocationDesc', 'GeographicLevel', 'Data_Value_Type', 'Stratification2', 'Stratification1']]\n",
    "df2.head()"
   ]
  },
  {
   "cell_type": "markdown",
   "metadata": {},
   "source": [
    "- Create dummy variables for all categorical columns except for Startification1"
   ]
  },
  {
   "cell_type": "code",
   "execution_count": 38,
   "metadata": {},
   "outputs": [],
   "source": [
    "def get_dummies(dataframe, *columns):\n",
    "    \n",
    "    encoded_dataframe = pd.DataFrame(index=dataframe.index)\n",
    "    for i in columns:\n",
    "        encoded_dataframe = pd.concat([dataframe, pd.get_dummies(dataframe[i], prefix=i)], axis=1)\n",
    "    \n",
    "    return encoded_dataframe"
   ]
  },
  {
   "cell_type": "code",
   "execution_count": 39,
   "metadata": {},
   "outputs": [],
   "source": [
    "model_data = get_dummies(df2, [ 'LocationAbbr', 'LocationDesc', 'GeographicLevel', 'Data_Value_Type', 'Stratification2'])"
   ]
  },
  {
   "cell_type": "code",
   "execution_count": 40,
   "metadata": {},
   "outputs": [],
   "source": [
    "cols = ['LocationAbbr', 'LocationDesc', 'GeographicLevel', 'Data_Value_Type', 'Stratification2']"
   ]
  },
  {
   "cell_type": "code",
   "execution_count": 41,
   "metadata": {},
   "outputs": [],
   "source": [
    "model_data = model_data[[i for i in model_data.columns if i not in cols]]"
   ]
  },
  {
   "cell_type": "markdown",
   "metadata": {},
   "source": [
    "- Select observations with mortality rate greater than 0."
   ]
  },
  {
   "cell_type": "code",
   "execution_count": 42,
   "metadata": {},
   "outputs": [
    {
     "data": {
      "text/html": [
       "<div>\n",
       "<style scoped>\n",
       "    .dataframe tbody tr th:only-of-type {\n",
       "        vertical-align: middle;\n",
       "    }\n",
       "\n",
       "    .dataframe tbody tr th {\n",
       "        vertical-align: top;\n",
       "    }\n",
       "\n",
       "    .dataframe thead th {\n",
       "        text-align: right;\n",
       "    }\n",
       "</style>\n",
       "<table border=\"1\" class=\"dataframe\">\n",
       "  <thead>\n",
       "    <tr style=\"text-align: right;\">\n",
       "      <th></th>\n",
       "      <th>Normal</th>\n",
       "      <th>Log Transformed</th>\n",
       "    </tr>\n",
       "  </thead>\n",
       "  <tbody>\n",
       "    <tr>\n",
       "      <th>count</th>\n",
       "      <td>59056.000000</td>\n",
       "      <td>59056.000000</td>\n",
       "    </tr>\n",
       "    <tr>\n",
       "      <th>mean</th>\n",
       "      <td>392.537403</td>\n",
       "      <td>5.916614</td>\n",
       "    </tr>\n",
       "    <tr>\n",
       "      <th>std</th>\n",
       "      <td>116.112222</td>\n",
       "      <td>0.367561</td>\n",
       "    </tr>\n",
       "    <tr>\n",
       "      <th>min</th>\n",
       "      <td>4.000000</td>\n",
       "      <td>1.386294</td>\n",
       "    </tr>\n",
       "    <tr>\n",
       "      <th>25%</th>\n",
       "      <td>324.000000</td>\n",
       "      <td>5.780744</td>\n",
       "    </tr>\n",
       "    <tr>\n",
       "      <th>50%</th>\n",
       "      <td>446.750000</td>\n",
       "      <td>6.101999</td>\n",
       "    </tr>\n",
       "    <tr>\n",
       "      <th>75%</th>\n",
       "      <td>446.750000</td>\n",
       "      <td>6.101999</td>\n",
       "    </tr>\n",
       "    <tr>\n",
       "      <th>max</th>\n",
       "      <td>5161.700000</td>\n",
       "      <td>8.549021</td>\n",
       "    </tr>\n",
       "  </tbody>\n",
       "</table>\n",
       "</div>"
      ],
      "text/plain": [
       "             Normal  Log Transformed\n",
       "count  59056.000000     59056.000000\n",
       "mean     392.537403         5.916614\n",
       "std      116.112222         0.367561\n",
       "min        4.000000         1.386294\n",
       "25%      324.000000         5.780744\n",
       "50%      446.750000         6.101999\n",
       "75%      446.750000         6.101999\n",
       "max     5161.700000         8.549021"
      ]
     },
     "execution_count": 42,
     "metadata": {},
     "output_type": "execute_result"
    }
   ],
   "source": [
    "model_data = model_data[model_data['Mortality Rate']>0]\n",
    "pd.concat([model_data['Mortality Rate'].describe(), np.log(model_data['Mortality Rate']).describe()], \n",
    "          axis=1, \n",
    "          keys=['Normal', 'Log Transformed'])"
   ]
  },
  {
   "cell_type": "markdown",
   "metadata": {},
   "source": [
    "- Mortality rate with and without log normal transformation"
   ]
  },
  {
   "cell_type": "code",
   "execution_count": 43,
   "metadata": {},
   "outputs": [
    {
     "data": {
      "image/png": "[encoded data removed]",
      "text/plain": [
       "<Figure size 1800x432 with 2 Axes>"
      ]
     },
     "metadata": {},
     "output_type": "display_data"
    }
   ],
   "source": [
    "fig, ax = plt.subplots(2,1)\n",
    "ax1 = sns.boxplot(x=model_data['Mortality Rate'], ax=ax[0])\n",
    "ax1.set_xlabel('Mortality Rate', fontsize=15)\n",
    "ax2 = sns.boxplot(x=np.log(model_data['Mortality Rate']), ax=ax[1])\n",
    "ax2.set_xlabel('Log Transformed Mortality Rate', fontsize=15)\n",
    "fig.set_facecolor('#fadcaa')\n",
    "plt.subplots_adjust(top=1.5)\n",
    "plt.show()"
   ]
  },
  {
   "cell_type": "code",
   "execution_count": 44,
   "metadata": {},
   "outputs": [],
   "source": [
    "model_data['Mortality Rate'] = np.log(model_data['Mortality Rate'])"
   ]
  },
  {
   "cell_type": "markdown",
   "metadata": {},
   "source": [
    "# Declare independent and dependent variables"
   ]
  },
  {
   "cell_type": "code",
   "execution_count": 45,
   "metadata": {},
   "outputs": [],
   "source": [
    "from sklearn.model_selection import train_test_split"
   ]
  },
  {
   "cell_type": "code",
   "execution_count": 46,
   "metadata": {},
   "outputs": [],
   "source": [
    "# dependent vs. independent variables\n",
    "x = model_data[[i for i in model_data.columns if i!='Stratification1']]\n",
    "y = model_data['Stratification1']"
   ]
  },
  {
   "cell_type": "markdown",
   "metadata": {},
   "source": [
    "- Feature Selection"
   ]
  },
  {
   "cell_type": "code",
   "execution_count": 47,
   "metadata": {},
   "outputs": [],
   "source": [
    "from sklearn.feature_selection import GenericUnivariateSelect, f_classif"
   ]
  },
  {
   "cell_type": "code",
   "execution_count": 48,
   "metadata": {},
   "outputs": [
    {
     "data": {
      "text/plain": [
       "(59056, 2086)"
      ]
     },
     "execution_count": 48,
     "metadata": {},
     "output_type": "execute_result"
    }
   ],
   "source": [
    "x.shape"
   ]
  },
  {
   "cell_type": "code",
   "execution_count": 49,
   "metadata": {},
   "outputs": [],
   "source": [
    "#in the case below we use 20% of the original feature set\n",
    "#f_classif gives ANOVA F_values to rank the features based on importance\n",
    "feature_selector = GenericUnivariateSelect(f_classif, mode='percentile', param=5) #params defines the number of features to select if k-best or percentage of features if percentile\n",
    "x_select = feature_selector.fit_transform(x, y)"
   ]
  },
  {
   "cell_type": "code",
   "execution_count": 50,
   "metadata": {},
   "outputs": [],
   "source": [
    "x_select = x.iloc[:,feature_selector.get_support(indices=True)] #get support gives an array of indices of the retained columns"
   ]
  },
  {
   "cell_type": "code",
   "execution_count": 51,
   "metadata": {},
   "outputs": [
    {
     "data": {
      "text/html": [
       "<div>\n",
       "<style scoped>\n",
       "    .dataframe tbody tr th:only-of-type {\n",
       "        vertical-align: middle;\n",
       "    }\n",
       "\n",
       "    .dataframe tbody tr th {\n",
       "        vertical-align: top;\n",
       "    }\n",
       "\n",
       "    .dataframe thead th {\n",
       "        text-align: right;\n",
       "    }\n",
       "</style>\n",
       "<table border=\"1\" class=\"dataframe\">\n",
       "  <thead>\n",
       "    <tr style=\"text-align: right;\">\n",
       "      <th></th>\n",
       "      <th>Mortality Rate</th>\n",
       "      <th>Latitude</th>\n",
       "      <th>Longitude</th>\n",
       "      <th>LocationAbbr_AK</th>\n",
       "      <th>LocationAbbr_AL</th>\n",
       "      <th>LocationAbbr_AR</th>\n",
       "      <th>LocationAbbr_AZ</th>\n",
       "      <th>LocationAbbr_CA</th>\n",
       "      <th>LocationAbbr_CO</th>\n",
       "      <th>LocationAbbr_CT</th>\n",
       "      <th>...</th>\n",
       "      <th>GeographicLevel_County</th>\n",
       "      <th>GeographicLevel_State</th>\n",
       "      <th>Data_Value_Type_Age-adjusted, 3-year Average Rate</th>\n",
       "      <th>Data_Value_Type_Age-adjusted, Spatially Smoothed, 3-year Average Rate</th>\n",
       "      <th>Stratification2_American Indian and Alaskan Native</th>\n",
       "      <th>Stratification2_Asian and Pacific Islander</th>\n",
       "      <th>Stratification2_Black</th>\n",
       "      <th>Stratification2_Hispanic</th>\n",
       "      <th>Stratification2_Overall</th>\n",
       "      <th>Stratification2_White</th>\n",
       "    </tr>\n",
       "  </thead>\n",
       "  <tbody>\n",
       "    <tr>\n",
       "      <th>59071</th>\n",
       "      <td>5.818895</td>\n",
       "      <td>42.76</td>\n",
       "      <td>-109.90</td>\n",
       "      <td>0</td>\n",
       "      <td>0</td>\n",
       "      <td>0</td>\n",
       "      <td>0</td>\n",
       "      <td>0</td>\n",
       "      <td>0</td>\n",
       "      <td>0</td>\n",
       "      <td>...</td>\n",
       "      <td>1</td>\n",
       "      <td>0</td>\n",
       "      <td>0</td>\n",
       "      <td>1</td>\n",
       "      <td>0</td>\n",
       "      <td>0</td>\n",
       "      <td>0</td>\n",
       "      <td>0</td>\n",
       "      <td>0</td>\n",
       "      <td>1</td>\n",
       "    </tr>\n",
       "    <tr>\n",
       "      <th>59072</th>\n",
       "      <td>5.136386</td>\n",
       "      <td>43.92</td>\n",
       "      <td>-110.50</td>\n",
       "      <td>0</td>\n",
       "      <td>0</td>\n",
       "      <td>0</td>\n",
       "      <td>0</td>\n",
       "      <td>0</td>\n",
       "      <td>0</td>\n",
       "      <td>0</td>\n",
       "      <td>...</td>\n",
       "      <td>1</td>\n",
       "      <td>0</td>\n",
       "      <td>0</td>\n",
       "      <td>1</td>\n",
       "      <td>0</td>\n",
       "      <td>0</td>\n",
       "      <td>0</td>\n",
       "      <td>0</td>\n",
       "      <td>1</td>\n",
       "      <td>0</td>\n",
       "    </tr>\n",
       "    <tr>\n",
       "      <th>59073</th>\n",
       "      <td>5.751302</td>\n",
       "      <td>41.65</td>\n",
       "      <td>-108.80</td>\n",
       "      <td>0</td>\n",
       "      <td>0</td>\n",
       "      <td>0</td>\n",
       "      <td>0</td>\n",
       "      <td>0</td>\n",
       "      <td>0</td>\n",
       "      <td>0</td>\n",
       "      <td>...</td>\n",
       "      <td>1</td>\n",
       "      <td>0</td>\n",
       "      <td>0</td>\n",
       "      <td>1</td>\n",
       "      <td>1</td>\n",
       "      <td>0</td>\n",
       "      <td>0</td>\n",
       "      <td>0</td>\n",
       "      <td>0</td>\n",
       "      <td>0</td>\n",
       "    </tr>\n",
       "    <tr>\n",
       "      <th>59074</th>\n",
       "      <td>6.101999</td>\n",
       "      <td>39.27</td>\n",
       "      <td>-80.71</td>\n",
       "      <td>0</td>\n",
       "      <td>0</td>\n",
       "      <td>0</td>\n",
       "      <td>0</td>\n",
       "      <td>0</td>\n",
       "      <td>0</td>\n",
       "      <td>0</td>\n",
       "      <td>...</td>\n",
       "      <td>1</td>\n",
       "      <td>0</td>\n",
       "      <td>0</td>\n",
       "      <td>1</td>\n",
       "      <td>1</td>\n",
       "      <td>0</td>\n",
       "      <td>0</td>\n",
       "      <td>0</td>\n",
       "      <td>0</td>\n",
       "      <td>0</td>\n",
       "    </tr>\n",
       "    <tr>\n",
       "      <th>59075</th>\n",
       "      <td>6.101999</td>\n",
       "      <td>38.71</td>\n",
       "      <td>-81.35</td>\n",
       "      <td>0</td>\n",
       "      <td>0</td>\n",
       "      <td>0</td>\n",
       "      <td>0</td>\n",
       "      <td>0</td>\n",
       "      <td>0</td>\n",
       "      <td>0</td>\n",
       "      <td>...</td>\n",
       "      <td>1</td>\n",
       "      <td>0</td>\n",
       "      <td>0</td>\n",
       "      <td>1</td>\n",
       "      <td>0</td>\n",
       "      <td>1</td>\n",
       "      <td>0</td>\n",
       "      <td>0</td>\n",
       "      <td>0</td>\n",
       "      <td>0</td>\n",
       "    </tr>\n",
       "  </tbody>\n",
       "</table>\n",
       "<p>5 rows × 104 columns</p>\n",
       "</div>"
      ],
      "text/plain": [
       "       Mortality Rate  Latitude  Longitude  LocationAbbr_AK  LocationAbbr_AL  \\\n",
       "59071        5.818895     42.76    -109.90                0                0   \n",
       "59072        5.136386     43.92    -110.50                0                0   \n",
       "59073        5.751302     41.65    -108.80                0                0   \n",
       "59074        6.101999     39.27     -80.71                0                0   \n",
       "59075        6.101999     38.71     -81.35                0                0   \n",
       "\n",
       "       LocationAbbr_AR  LocationAbbr_AZ  LocationAbbr_CA  LocationAbbr_CO  \\\n",
       "59071                0                0                0                0   \n",
       "59072                0                0                0                0   \n",
       "59073                0                0                0                0   \n",
       "59074                0                0                0                0   \n",
       "59075                0                0                0                0   \n",
       "\n",
       "       LocationAbbr_CT  ...  GeographicLevel_County  GeographicLevel_State  \\\n",
       "59071                0  ...                       1                      0   \n",
       "59072                0  ...                       1                      0   \n",
       "59073                0  ...                       1                      0   \n",
       "59074                0  ...                       1                      0   \n",
       "59075                0  ...                       1                      0   \n",
       "\n",
       "       Data_Value_Type_Age-adjusted, 3-year Average Rate  \\\n",
       "59071                                                  0   \n",
       "59072                                                  0   \n",
       "59073                                                  0   \n",
       "59074                                                  0   \n",
       "59075                                                  0   \n",
       "\n",
       "       Data_Value_Type_Age-adjusted, Spatially Smoothed, 3-year Average Rate  \\\n",
       "59071                                                  1                       \n",
       "59072                                                  1                       \n",
       "59073                                                  1                       \n",
       "59074                                                  1                       \n",
       "59075                                                  1                       \n",
       "\n",
       "       Stratification2_American Indian and Alaskan Native  \\\n",
       "59071                                                  0    \n",
       "59072                                                  0    \n",
       "59073                                                  1    \n",
       "59074                                                  1    \n",
       "59075                                                  0    \n",
       "\n",
       "       Stratification2_Asian and Pacific Islander  Stratification2_Black  \\\n",
       "59071                                           0                      0   \n",
       "59072                                           0                      0   \n",
       "59073                                           0                      0   \n",
       "59074                                           0                      0   \n",
       "59075                                           1                      0   \n",
       "\n",
       "       Stratification2_Hispanic  Stratification2_Overall  \\\n",
       "59071                         0                        0   \n",
       "59072                         0                        1   \n",
       "59073                         0                        0   \n",
       "59074                         0                        0   \n",
       "59075                         0                        0   \n",
       "\n",
       "       Stratification2_White  \n",
       "59071                      1  \n",
       "59072                      0  \n",
       "59073                      0  \n",
       "59074                      0  \n",
       "59075                      0  \n",
       "\n",
       "[5 rows x 104 columns]"
      ]
     },
     "execution_count": 51,
     "metadata": {},
     "output_type": "execute_result"
    }
   ],
   "source": [
    "x_select.tail()"
   ]
  },
  {
   "cell_type": "markdown",
   "metadata": {},
   "source": [
    "# Train-Test Split"
   ]
  },
  {
   "cell_type": "code",
   "execution_count": 53,
   "metadata": {},
   "outputs": [],
   "source": [
    "x_train, x_test, y_train, y_test = train_test_split(x_select, y, test_size=0.20, random_state=123)"
   ]
  },
  {
   "cell_type": "markdown",
   "metadata": {},
   "source": [
    "### Models:\n",
    "1. Logistic Regression\n",
    "2. Gaussian Naive Bayes\n",
    "3. Decision Tress\n",
    "4. Random Forest\n",
    "5. Supoort Vector Machine"
   ]
  },
  {
   "cell_type": "markdown",
   "metadata": {},
   "source": [
    "- Logistic Regression"
   ]
  },
  {
   "cell_type": "code",
   "execution_count": 54,
   "metadata": {},
   "outputs": [],
   "source": [
    "from sklearn.linear_model import LogisticRegression\n",
    "from sklearn.metrics import roc_auc_score, roc_curve\n",
    "from sklearn.preprocessing import LabelEncoder"
   ]
  },
  {
   "cell_type": "code",
   "execution_count": 55,
   "metadata": {},
   "outputs": [],
   "source": [
    "logit_model = LogisticRegression(multi_class='ovr', solver='liblinear')\n",
    "logit_fit = logit_model.fit(x_train, y_train)"
   ]
  },
  {
   "cell_type": "code",
   "execution_count": 56,
   "metadata": {},
   "outputs": [],
   "source": [
    "logit_predict = logit_model.predict(x_test)\n",
    "logit_predict_prob = logit_model.predict_proba(x_test)"
   ]
  },
  {
   "cell_type": "code",
   "execution_count": 57,
   "metadata": {},
   "outputs": [],
   "source": [
    "labelencoder = LabelEncoder()\n",
    "y_test_encoded = labelencoder.fit_transform(y_test)\n",
    "logit_predict_encoded = labelencoder.fit_transform(logit_predict)"
   ]
  },
  {
   "cell_type": "code",
   "execution_count": 58,
   "metadata": {},
   "outputs": [
    {
     "name": "stdout",
     "output_type": "stream",
     "text": [
      "ROC Accuracy of a Logistic Regression Model:  61.4 %\n"
     ]
    }
   ],
   "source": [
    "print('ROC Accuracy of a Logistic Regression Model: ', round(roc_auc_score(y_test, logit_predict_prob, multi_class='ovr'),3)*100, '%')"
   ]
  },
  {
   "cell_type": "code",
   "execution_count": 59,
   "metadata": {},
   "outputs": [
    {
     "data": {
      "text/html": [
       "<div>\n",
       "<style scoped>\n",
       "    .dataframe tbody tr th:only-of-type {\n",
       "        vertical-align: middle;\n",
       "    }\n",
       "\n",
       "    .dataframe tbody tr th {\n",
       "        vertical-align: top;\n",
       "    }\n",
       "\n",
       "    .dataframe thead th {\n",
       "        text-align: right;\n",
       "    }\n",
       "</style>\n",
       "<table border=\"1\" class=\"dataframe\">\n",
       "  <thead>\n",
       "    <tr style=\"text-align: right;\">\n",
       "      <th>Predicted</th>\n",
       "      <th>Female</th>\n",
       "      <th>Male</th>\n",
       "      <th>Overall</th>\n",
       "    </tr>\n",
       "    <tr>\n",
       "      <th>Actual</th>\n",
       "      <th></th>\n",
       "      <th></th>\n",
       "      <th></th>\n",
       "    </tr>\n",
       "  </thead>\n",
       "  <tbody>\n",
       "    <tr>\n",
       "      <th>Female</th>\n",
       "      <td>1929</td>\n",
       "      <td>1586</td>\n",
       "      <td>381</td>\n",
       "    </tr>\n",
       "    <tr>\n",
       "      <th>Male</th>\n",
       "      <td>819</td>\n",
       "      <td>2833</td>\n",
       "      <td>375</td>\n",
       "    </tr>\n",
       "    <tr>\n",
       "      <th>Overall</th>\n",
       "      <td>1557</td>\n",
       "      <td>1962</td>\n",
       "      <td>370</td>\n",
       "    </tr>\n",
       "  </tbody>\n",
       "</table>\n",
       "</div>"
      ],
      "text/plain": [
       "Predicted  Female  Male  Overall\n",
       "Actual                          \n",
       "Female       1929  1586      381\n",
       "Male          819  2833      375\n",
       "Overall      1557  1962      370"
      ]
     },
     "execution_count": 59,
     "metadata": {},
     "output_type": "execute_result"
    }
   ],
   "source": [
    "logit_confusion_matrix = pd.crosstab(y_test.values,\n",
    "                                     logit_predict,\n",
    "                                     rownames=['Actual'],\n",
    "                                     colnames=['Predicted'],\n",
    "                                     margins=False)\n",
    "logit_confusion_matrix"
   ]
  },
  {
   "cell_type": "markdown",
   "metadata": {},
   "source": [
    "- Naive Bayes"
   ]
  },
  {
   "cell_type": "code",
   "execution_count": 60,
   "metadata": {},
   "outputs": [],
   "source": [
    "from sklearn.naive_bayes import GaussianNB"
   ]
  },
  {
   "cell_type": "code",
   "execution_count": 61,
   "metadata": {},
   "outputs": [],
   "source": [
    "nb_model = GaussianNB()\n",
    "nb_fit = nb_model.fit(x_train, y_train)"
   ]
  },
  {
   "cell_type": "code",
   "execution_count": 62,
   "metadata": {},
   "outputs": [],
   "source": [
    "nb_predict = nb_fit.predict(x_test)\n",
    "nb_predict_proba = nb_fit.predict_proba(x_test)"
   ]
  },
  {
   "cell_type": "code",
   "execution_count": 63,
   "metadata": {},
   "outputs": [],
   "source": [
    "nb_predict_encoded = labelencoder.fit_transform(nb_predict)"
   ]
  },
  {
   "cell_type": "code",
   "execution_count": 64,
   "metadata": {},
   "outputs": [
    {
     "data": {
      "text/html": [
       "<div>\n",
       "<style scoped>\n",
       "    .dataframe tbody tr th:only-of-type {\n",
       "        vertical-align: middle;\n",
       "    }\n",
       "\n",
       "    .dataframe tbody tr th {\n",
       "        vertical-align: top;\n",
       "    }\n",
       "\n",
       "    .dataframe thead th {\n",
       "        text-align: right;\n",
       "    }\n",
       "</style>\n",
       "<table border=\"1\" class=\"dataframe\">\n",
       "  <thead>\n",
       "    <tr style=\"text-align: right;\">\n",
       "      <th>Predicted</th>\n",
       "      <th>Female</th>\n",
       "      <th>Male</th>\n",
       "      <th>Overall</th>\n",
       "    </tr>\n",
       "    <tr>\n",
       "      <th>Actual</th>\n",
       "      <th></th>\n",
       "      <th></th>\n",
       "      <th></th>\n",
       "    </tr>\n",
       "  </thead>\n",
       "  <tbody>\n",
       "    <tr>\n",
       "      <th>Female</th>\n",
       "      <td>1827</td>\n",
       "      <td>1270</td>\n",
       "      <td>799</td>\n",
       "    </tr>\n",
       "    <tr>\n",
       "      <th>Male</th>\n",
       "      <td>1599</td>\n",
       "      <td>1613</td>\n",
       "      <td>815</td>\n",
       "    </tr>\n",
       "    <tr>\n",
       "      <th>Overall</th>\n",
       "      <td>1924</td>\n",
       "      <td>1373</td>\n",
       "      <td>592</td>\n",
       "    </tr>\n",
       "  </tbody>\n",
       "</table>\n",
       "</div>"
      ],
      "text/plain": [
       "Predicted  Female  Male  Overall\n",
       "Actual                          \n",
       "Female       1827  1270      799\n",
       "Male         1599  1613      815\n",
       "Overall      1924  1373      592"
      ]
     },
     "execution_count": 64,
     "metadata": {},
     "output_type": "execute_result"
    }
   ],
   "source": [
    "pd.crosstab(y_test.values,\n",
    "            nb_predict,\n",
    "            rownames=['Actual'],\n",
    "            colnames=['Predicted'],\n",
    "            margins=False)"
   ]
  },
  {
   "cell_type": "code",
   "execution_count": 65,
   "metadata": {},
   "outputs": [
    {
     "name": "stdout",
     "output_type": "stream",
     "text": [
      "ROC Accuracy of a Naive Bayes Model:  49.6 %\n"
     ]
    }
   ],
   "source": [
    "print('ROC Accuracy of a Naive Bayes Model: ', round(roc_auc_score(y_test, nb_predict_proba, multi_class='ovr'),3)*100, '%')"
   ]
  },
  {
   "cell_type": "markdown",
   "metadata": {},
   "source": [
    "- Decision Trees"
   ]
  },
  {
   "cell_type": "code",
   "execution_count": 67,
   "metadata": {},
   "outputs": [],
   "source": [
    "from sklearn.tree import DecisionTreeClassifier"
   ]
  },
  {
   "cell_type": "code",
   "execution_count": 69,
   "metadata": {},
   "outputs": [],
   "source": [
    "decision_tree_accuracy = {}\n",
    "for depth in range(1,25):\n",
    "    dt_model = DecisionTreeClassifier(random_state=123, max_depth=depth)\n",
    "    dt_fit = dt_model.fit(x_train, y_train)\n",
    "    dt_predict = dt_fit.predict(x_test)\n",
    "    dt_predict_proba = dt_fit.predict_proba(x_test)\n",
    "    dt_auc_accuracy = roc_auc_score(y_test_encoded, dt_predict_proba, multi_class='ovr')\n",
    "    decision_tree_accuracy[depth] = dt_auc_accuracy"
   ]
  },
  {
   "cell_type": "code",
   "execution_count": 70,
   "metadata": {},
   "outputs": [
    {
     "data": {
      "image/png": "[encoded data removed]",
      "text/plain": [
       "<Figure size 1080x432 with 1 Axes>"
      ]
     },
     "metadata": {
      "needs_background": "light"
     },
     "output_type": "display_data"
    }
   ],
   "source": [
    "dt_accuracy_df = pd.DataFrame.from_dict(decision_tree_accuracy, orient='index', columns=['Auc Accuracy'])\n",
    "fig = dt_accuracy_df.plot(figsize=(15,6))\n",
    "fig.annotate((dt_accuracy_df['Auc Accuracy'].idxmax(), max(dt_accuracy_df['Auc Accuracy'])),\n",
    "            xy=(dt_accuracy_df.idxmax(), max(dt_accuracy_df['Auc Accuracy'])),\n",
    "            xytext=(10.5, 0.72))\n",
    "# plt.legend('Auc', fontsize=10, loc=2, prop={'size':10})\n",
    "plt.ylabel('Accuracy', fontsize=15)\n",
    "plt.xlabel('Iteration', fontsize=15)\n",
    "plt.style.use('ggplot')\n",
    "plt.show()"
   ]
  },
  {
   "cell_type": "markdown",
   "metadata": {},
   "source": [
    "Using an iterative approach to select tree depth the max accuracy achieved is when the tree depth is 10. Using this as the tree depth the final model is built which will be used to make preidictions"
   ]
  },
  {
   "cell_type": "code",
   "execution_count": 73,
   "metadata": {},
   "outputs": [
    {
     "name": "stdout",
     "output_type": "stream",
     "text": [
      "ROC Accuracy of the Decision Tree Model:  71.1 %\n"
     ]
    }
   ],
   "source": [
    "dt_model = DecisionTreeClassifier(random_state=123, max_depth=10)\n",
    "dt_fit = dt_model.fit(x_train, y_train)\n",
    "dt_predict = dt_fit.predict(x_test)\n",
    "dt_predict_proba = dt_fit.predict_proba(x_test)\n",
    "print('ROC Accuracy of the Decision Tree Model: ', round(roc_auc_score(y_test_encoded, dt_predict_proba, multi_class='ovr'),3)*100, '%')"
   ]
  },
  {
   "cell_type": "code",
   "execution_count": 74,
   "metadata": {},
   "outputs": [
    {
     "data": {
      "text/html": [
       "<div>\n",
       "<style scoped>\n",
       "    .dataframe tbody tr th:only-of-type {\n",
       "        vertical-align: middle;\n",
       "    }\n",
       "\n",
       "    .dataframe tbody tr th {\n",
       "        vertical-align: top;\n",
       "    }\n",
       "\n",
       "    .dataframe thead th {\n",
       "        text-align: right;\n",
       "    }\n",
       "</style>\n",
       "<table border=\"1\" class=\"dataframe\">\n",
       "  <thead>\n",
       "    <tr style=\"text-align: right;\">\n",
       "      <th>Predictions</th>\n",
       "      <th>Female</th>\n",
       "      <th>Male</th>\n",
       "      <th>Overall</th>\n",
       "    </tr>\n",
       "    <tr>\n",
       "      <th>Actuals</th>\n",
       "      <th></th>\n",
       "      <th></th>\n",
       "      <th></th>\n",
       "    </tr>\n",
       "  </thead>\n",
       "  <tbody>\n",
       "    <tr>\n",
       "      <th>Female</th>\n",
       "      <td>3165</td>\n",
       "      <td>166</td>\n",
       "      <td>565</td>\n",
       "    </tr>\n",
       "    <tr>\n",
       "      <th>Male</th>\n",
       "      <td>1918</td>\n",
       "      <td>1523</td>\n",
       "      <td>586</td>\n",
       "    </tr>\n",
       "    <tr>\n",
       "      <th>Overall</th>\n",
       "      <td>2084</td>\n",
       "      <td>503</td>\n",
       "      <td>1302</td>\n",
       "    </tr>\n",
       "  </tbody>\n",
       "</table>\n",
       "</div>"
      ],
      "text/plain": [
       "Predictions  Female  Male  Overall\n",
       "Actuals                           \n",
       "Female         3165   166      565\n",
       "Male           1918  1523      586\n",
       "Overall        2084   503     1302"
      ]
     },
     "execution_count": 74,
     "metadata": {},
     "output_type": "execute_result"
    }
   ],
   "source": [
    "pd.crosstab(y_test.values,\n",
    "           dt_predict,\n",
    "           rownames=['Actuals'],\n",
    "           colnames=['Predictions'],\n",
    "           margins=False)"
   ]
  },
  {
   "cell_type": "markdown",
   "metadata": {},
   "source": [
    "- Random Forest "
   ]
  },
  {
   "cell_type": "code",
   "execution_count": 75,
   "metadata": {},
   "outputs": [],
   "source": [
    "from sklearn.ensemble import RandomForestClassifier "
   ]
  },
  {
   "cell_type": "code",
   "execution_count": 76,
   "metadata": {},
   "outputs": [],
   "source": [
    "rf_accuracy = {}\n",
    "for depth in range(1,51):\n",
    "    rf_model = RandomForestClassifier(max_depth=depth, random_state=123, max_samples=3120) #using the number of columns * 30 as a statistical method for bootstratpping (law of large numbers)\n",
    "    rf_fit = rf_model.fit(x_train, y_train)\n",
    "    rf_predict_proba = rf_fit.predict_proba(x_test)\n",
    "    rf_roc_accuracy = roc_auc_score(y_test, rf_predict_proba, multi_class='ovr')\n",
    "    rf_accuracy[depth] = rf_roc_accuracy"
   ]
  },
  {
   "cell_type": "code",
   "execution_count": 77,
   "metadata": {},
   "outputs": [
    {
     "data": {
      "image/png": "[encoded data removed]",
      "text/plain": [
       "<Figure size 1080x432 with 1 Axes>"
      ]
     },
     "metadata": {},
     "output_type": "display_data"
    }
   ],
   "source": [
    "rf_accuracy_df = pd.DataFrame.from_dict(rf_accuracy, orient='index', columns=['Auc Accuracy'])\n",
    "fig = rf_accuracy_df.plot(figsize=(15,6))\n",
    "fig.annotate(((rf_accuracy_df['Auc Accuracy'].idxmax(),max(rf_accuracy_df['Auc Accuracy']))),\n",
    "            xy=((rf_accuracy_df['Auc Accuracy'].idxmax(),max(rf_accuracy_df['Auc Accuracy']))),\n",
    "            xytext=(29,0.673))\n",
    "plt.ylabel('Accuracy')\n",
    "plt.xlabel('Random Forest Iteration')\n",
    "plt.show()"
   ]
  },
  {
   "cell_type": "markdown",
   "metadata": {},
   "source": [
    "The graph above shows that max ROC accuracy is achieved at iteration 29. Using max tree depth of 29 a random forest model is built again below to make prediction."
   ]
  },
  {
   "cell_type": "code",
   "execution_count": 78,
   "metadata": {},
   "outputs": [
    {
     "data": {
      "text/html": [
       "<div>\n",
       "<style scoped>\n",
       "    .dataframe tbody tr th:only-of-type {\n",
       "        vertical-align: middle;\n",
       "    }\n",
       "\n",
       "    .dataframe tbody tr th {\n",
       "        vertical-align: top;\n",
       "    }\n",
       "\n",
       "    .dataframe thead th {\n",
       "        text-align: right;\n",
       "    }\n",
       "</style>\n",
       "<table border=\"1\" class=\"dataframe\">\n",
       "  <thead>\n",
       "    <tr style=\"text-align: right;\">\n",
       "      <th>Predictions</th>\n",
       "      <th>Female</th>\n",
       "      <th>Male</th>\n",
       "      <th>Overall</th>\n",
       "    </tr>\n",
       "    <tr>\n",
       "      <th>Actuals</th>\n",
       "      <th></th>\n",
       "      <th></th>\n",
       "      <th></th>\n",
       "    </tr>\n",
       "  </thead>\n",
       "  <tbody>\n",
       "    <tr>\n",
       "      <th>Female</th>\n",
       "      <td>1971</td>\n",
       "      <td>961</td>\n",
       "      <td>964</td>\n",
       "    </tr>\n",
       "    <tr>\n",
       "      <th>Male</th>\n",
       "      <td>1084</td>\n",
       "      <td>1954</td>\n",
       "      <td>989</td>\n",
       "    </tr>\n",
       "    <tr>\n",
       "      <th>Overall</th>\n",
       "      <td>1291</td>\n",
       "      <td>1177</td>\n",
       "      <td>1421</td>\n",
       "    </tr>\n",
       "  </tbody>\n",
       "</table>\n",
       "</div>"
      ],
      "text/plain": [
       "Predictions  Female  Male  Overall\n",
       "Actuals                           \n",
       "Female         1971   961      964\n",
       "Male           1084  1954      989\n",
       "Overall        1291  1177     1421"
      ]
     },
     "execution_count": 78,
     "metadata": {},
     "output_type": "execute_result"
    }
   ],
   "source": [
    "rf_model = RandomForestClassifier(max_depth=29, random_state=123, max_samples=3120)\n",
    "rf_fit = rf_model.fit(x_train, y_train)\n",
    "rf_predict = rf_fit.predict(x_test)\n",
    "rf_predict_proba = rf_fit.predict_proba(x_test)\n",
    "pd.crosstab(y_test,\n",
    "           rf_predict,\n",
    "           rownames=['Actuals'],\n",
    "           colnames=['Predictions'],\n",
    "           margins=False)"
   ]
  },
  {
   "cell_type": "code",
   "execution_count": 79,
   "metadata": {},
   "outputs": [
    {
     "name": "stdout",
     "output_type": "stream",
     "text": [
      "ROC Accuracy of the Random Forest Model:  67.2 %\n"
     ]
    }
   ],
   "source": [
    "print('ROC Accuracy of the Random Forest Model: ', round(roc_auc_score(y_test, rf_predict_proba, multi_class='ovr'),3)*100, \"%\")"
   ]
  },
  {
   "cell_type": "markdown",
   "metadata": {},
   "source": [
    "- Support Vector Machines"
   ]
  },
  {
   "cell_type": "code",
   "execution_count": 80,
   "metadata": {},
   "outputs": [],
   "source": [
    "from sklearn.svm import LinearSVC"
   ]
  },
  {
   "cell_type": "code",
   "execution_count": 81,
   "metadata": {},
   "outputs": [],
   "source": [
    "svm_y_train = labelencoder.fit_transform(y_train)"
   ]
  },
  {
   "cell_type": "code",
   "execution_count": 82,
   "metadata": {},
   "outputs": [],
   "source": [
    "svm_model = LinearSVC()\n",
    "svm_fit = svm_model.fit(x_train , svm_y_train)\n",
    "svm_predict = svm_fit.predict(x_test)\n",
    "svm_predict_encoded = labelencoder.fit_transform(svm_predict)\n",
    "# svm_predict_proba = svm_fit.predict_proba(x_test)"
   ]
  },
  {
   "cell_type": "code",
   "execution_count": 83,
   "metadata": {},
   "outputs": [],
   "source": [
    "from sklearn.preprocessing import OneHotEncoder"
   ]
  },
  {
   "cell_type": "code",
   "execution_count": 84,
   "metadata": {},
   "outputs": [],
   "source": [
    "one_hot_encoder = OneHotEncoder()\n",
    "one_hot_svm_predicted = one_hot_encoder.fit_transform(svm_predict_encoded.reshape(-1,1)).toarray()\n",
    "one_hot_y_test = one_hot_encoder.fit_transform(y_test_encoded.reshape(-1,1)).toarray()"
   ]
  },
  {
   "cell_type": "code",
   "execution_count": 85,
   "metadata": {},
   "outputs": [
    {
     "name": "stdout",
     "output_type": "stream",
     "text": [
      "AUC Accuracy of a SVM Linear Model:  56.94 %\n"
     ]
    }
   ],
   "source": [
    "#for binary predicted values with multiple classes the roc_auc_score requires encoding the feature first\n",
    "#encoding is only required for the predicted values\n",
    "print('AUC Accuracy of a SVM Linear Model: ', round(roc_auc_score(one_hot_y_test, one_hot_svm_predicted, multi_class='ovr')*100,2), '%') "
   ]
  }
 ],
 "metadata": {
  "kernelspec": {
   "display_name": "Python 3",
   "language": "python",
   "name": "python3"
  },
  "language_info": {
   "codemirror_mode": {
    "name": "ipython",
    "version": 3
   },
   "file_extension": ".py",
   "mimetype": "text/x-python",
   "name": "python",
   "nbconvert_exporter": "python",
   "pygments_lexer": "ipython3",
   "version": "3.7.7"
  }
 },
 "nbformat": 4,
 "nbformat_minor": 4
}
